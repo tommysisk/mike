{
 "cells": [
  {
   "cell_type": "code",
   "execution_count": 6,
   "id": "9e98a5fc",
   "metadata": {},
   "outputs": [],
   "source": [
    "import os\n",
    "import numpy as np\n",
    "import torch\n",
    "import mdtraj as md\n",
    "import torch.nn as nn\n",
    "import torch.nn.functional as F\n",
    "import deeptime\n",
    "from torch.utils.data import DataLoader\n",
    "from tqdm import tqdm\n",
    "from deeptime.decomposition.deep import VAMPNet\n",
    "from deeptime.decomposition import VAMP\n",
    "from copy import deepcopy\n",
    "\n",
    "class partitioned_fc(nn.Module):\n",
    "    def __init__(self):\n",
    "        super().__init__()\n",
    "        self.inter = nn.Sequential(\n",
    "            nn.Linear(20,30),\n",
    "            nn.ReLU(inplace=True),\n",
    "            nn.Linear(30,50),\n",
    "            nn.ReLU(inplace=True),\n",
    "            nn.Linear(50,80),\n",
    "            nn.ReLU(inplace=True),\n",
    "            nn.Linear(80,100),\n",
    "            nn.ReLU(inplace=True),\n",
    "        )\n",
    "        self.intra = nn.Sequential(\n",
    "            nn.Linear(190,170),\n",
    "            nn.ReLU(inplace=True),\n",
    "            nn.Linear(170,150),\n",
    "            nn.ReLU(inplace=True),\n",
    "            nn.Linear(150,130),\n",
    "            nn.ReLU(inplace=True),\n",
    "            nn.Linear(130,100),\n",
    "            nn.ReLU(inplace=True),\n",
    "        )\n",
    "        self.com = 200\n",
    "        #create a full connected MLP for combined vector and image data and output softmax\n",
    "        self.combined_features = nn.Sequential(\n",
    "            nn.Linear(self.com, int(self.com*(9/10))),\n",
    "            nn.ReLU(inplace=True),\n",
    "            nn.Linear(int(self.com*(9/10)),int(self.com*(8/10))),\n",
    "            nn.ReLU(inplace = True),\n",
    "            nn.Linear(int(self.com*(8/10)),int(self.com*(7/10))),\n",
    "            nn.ReLU(inplace=True),\n",
    "            nn.Linear(int(self.com*(7/10)),int(self.com*(5/10))),\n",
    "            nn.ReLU(inplace=True),\n",
    "            nn.Linear(int(self.com*(5/10)),int(self.com*(4/10))),\n",
    "            nn.ReLU(inplace=True),\n",
    "            nn.Linear(int(self.com*(4/10)),int(self.com*(3/10))),\n",
    "            nn.Softmax(dim=1),\n",
    "        )\n",
    "    def forward(self,x):\n",
    "        inter_ = self.inter(x[:,:20])\n",
    "        intra_ = self.intra(x[:,20:])\n",
    "        combined = torch.cat((inter_,intra_), 1)\n",
    "        combined = self.combined_features(combined)\n",
    "        return combined\n"
   ]
  },
  {
   "cell_type": "code",
   "execution_count": 2,
   "id": "17af410d",
   "metadata": {},
   "outputs": [
    {
     "data": {
      "text/plain": [
       "6.644594392669592"
      ]
     },
     "execution_count": 2,
     "metadata": {},
     "output_type": "execute_result"
    }
   ],
   "source": [
    "import numpy as np\n",
    "np.random.normal(5,5)"
   ]
  },
  {
   "cell_type": "code",
   "execution_count": 20,
   "id": "ec146b53",
   "metadata": {},
   "outputs": [],
   "source": [
    "test= np.random.rand((10*210)).reshape(10,210)"
   ]
  },
  {
   "cell_type": "code",
   "execution_count": 21,
   "id": "c3753be0",
   "metadata": {},
   "outputs": [],
   "source": [
    "net = partitioned_fc()"
   ]
  },
  {
   "cell_type": "code",
   "execution_count": 22,
   "id": "3df35658",
   "metadata": {},
   "outputs": [
    {
     "data": {
      "text/plain": [
       "tensor([[0.0165, 0.0172, 0.0152, 0.0157, 0.0168, 0.0160, 0.0180, 0.0157, 0.0166,\n",
       "         0.0163, 0.0159, 0.0184, 0.0150, 0.0181, 0.0152, 0.0183, 0.0190, 0.0179,\n",
       "         0.0171, 0.0164, 0.0176, 0.0169, 0.0159, 0.0146, 0.0159, 0.0157, 0.0180,\n",
       "         0.0165, 0.0158, 0.0165, 0.0174, 0.0172, 0.0168, 0.0161, 0.0178, 0.0178,\n",
       "         0.0173, 0.0176, 0.0190, 0.0168, 0.0148, 0.0158, 0.0157, 0.0176, 0.0182,\n",
       "         0.0155, 0.0158, 0.0159, 0.0166, 0.0166, 0.0161, 0.0176, 0.0161, 0.0156,\n",
       "         0.0177, 0.0162, 0.0157, 0.0172, 0.0167, 0.0162],\n",
       "        [0.0165, 0.0172, 0.0152, 0.0157, 0.0168, 0.0160, 0.0180, 0.0157, 0.0166,\n",
       "         0.0163, 0.0159, 0.0183, 0.0150, 0.0181, 0.0152, 0.0183, 0.0190, 0.0179,\n",
       "         0.0171, 0.0164, 0.0176, 0.0169, 0.0159, 0.0146, 0.0159, 0.0157, 0.0180,\n",
       "         0.0165, 0.0158, 0.0165, 0.0174, 0.0172, 0.0168, 0.0161, 0.0178, 0.0178,\n",
       "         0.0173, 0.0176, 0.0190, 0.0168, 0.0148, 0.0158, 0.0157, 0.0176, 0.0182,\n",
       "         0.0155, 0.0158, 0.0159, 0.0166, 0.0166, 0.0161, 0.0176, 0.0161, 0.0156,\n",
       "         0.0177, 0.0162, 0.0157, 0.0172, 0.0167, 0.0162],\n",
       "        [0.0165, 0.0172, 0.0152, 0.0157, 0.0168, 0.0160, 0.0180, 0.0157, 0.0166,\n",
       "         0.0163, 0.0159, 0.0183, 0.0150, 0.0181, 0.0152, 0.0183, 0.0190, 0.0179,\n",
       "         0.0171, 0.0164, 0.0176, 0.0169, 0.0159, 0.0146, 0.0159, 0.0157, 0.0180,\n",
       "         0.0165, 0.0158, 0.0165, 0.0174, 0.0172, 0.0168, 0.0161, 0.0178, 0.0178,\n",
       "         0.0173, 0.0176, 0.0190, 0.0168, 0.0148, 0.0158, 0.0157, 0.0176, 0.0182,\n",
       "         0.0155, 0.0158, 0.0159, 0.0166, 0.0166, 0.0161, 0.0176, 0.0161, 0.0156,\n",
       "         0.0177, 0.0162, 0.0157, 0.0172, 0.0167, 0.0162],\n",
       "        [0.0165, 0.0172, 0.0152, 0.0157, 0.0168, 0.0160, 0.0180, 0.0157, 0.0166,\n",
       "         0.0163, 0.0159, 0.0184, 0.0150, 0.0181, 0.0152, 0.0183, 0.0190, 0.0179,\n",
       "         0.0171, 0.0164, 0.0176, 0.0169, 0.0159, 0.0146, 0.0159, 0.0157, 0.0180,\n",
       "         0.0165, 0.0158, 0.0165, 0.0174, 0.0172, 0.0168, 0.0161, 0.0178, 0.0178,\n",
       "         0.0173, 0.0176, 0.0190, 0.0168, 0.0148, 0.0158, 0.0157, 0.0176, 0.0182,\n",
       "         0.0155, 0.0158, 0.0159, 0.0166, 0.0166, 0.0161, 0.0176, 0.0161, 0.0156,\n",
       "         0.0177, 0.0162, 0.0157, 0.0172, 0.0167, 0.0162],\n",
       "        [0.0165, 0.0172, 0.0152, 0.0157, 0.0168, 0.0160, 0.0180, 0.0157, 0.0166,\n",
       "         0.0163, 0.0159, 0.0183, 0.0150, 0.0181, 0.0152, 0.0183, 0.0190, 0.0179,\n",
       "         0.0171, 0.0164, 0.0176, 0.0169, 0.0159, 0.0146, 0.0159, 0.0157, 0.0180,\n",
       "         0.0165, 0.0158, 0.0165, 0.0174, 0.0172, 0.0168, 0.0161, 0.0178, 0.0178,\n",
       "         0.0173, 0.0176, 0.0190, 0.0168, 0.0148, 0.0158, 0.0157, 0.0176, 0.0182,\n",
       "         0.0155, 0.0158, 0.0159, 0.0166, 0.0166, 0.0161, 0.0176, 0.0161, 0.0156,\n",
       "         0.0177, 0.0162, 0.0157, 0.0172, 0.0167, 0.0162],\n",
       "        [0.0165, 0.0172, 0.0152, 0.0157, 0.0168, 0.0160, 0.0180, 0.0157, 0.0166,\n",
       "         0.0163, 0.0159, 0.0184, 0.0150, 0.0181, 0.0152, 0.0183, 0.0190, 0.0179,\n",
       "         0.0171, 0.0164, 0.0176, 0.0169, 0.0159, 0.0146, 0.0159, 0.0157, 0.0180,\n",
       "         0.0165, 0.0158, 0.0165, 0.0174, 0.0172, 0.0168, 0.0161, 0.0178, 0.0178,\n",
       "         0.0173, 0.0176, 0.0190, 0.0168, 0.0148, 0.0158, 0.0157, 0.0176, 0.0182,\n",
       "         0.0155, 0.0158, 0.0159, 0.0166, 0.0166, 0.0161, 0.0176, 0.0161, 0.0156,\n",
       "         0.0177, 0.0162, 0.0157, 0.0172, 0.0167, 0.0162],\n",
       "        [0.0165, 0.0172, 0.0152, 0.0157, 0.0168, 0.0160, 0.0180, 0.0157, 0.0166,\n",
       "         0.0163, 0.0159, 0.0183, 0.0150, 0.0181, 0.0152, 0.0183, 0.0190, 0.0179,\n",
       "         0.0171, 0.0164, 0.0176, 0.0169, 0.0159, 0.0146, 0.0159, 0.0157, 0.0180,\n",
       "         0.0165, 0.0158, 0.0165, 0.0174, 0.0172, 0.0168, 0.0161, 0.0178, 0.0178,\n",
       "         0.0173, 0.0176, 0.0190, 0.0168, 0.0148, 0.0158, 0.0157, 0.0176, 0.0182,\n",
       "         0.0155, 0.0158, 0.0159, 0.0166, 0.0166, 0.0161, 0.0176, 0.0161, 0.0156,\n",
       "         0.0177, 0.0162, 0.0157, 0.0172, 0.0167, 0.0162],\n",
       "        [0.0165, 0.0172, 0.0152, 0.0157, 0.0168, 0.0160, 0.0180, 0.0157, 0.0166,\n",
       "         0.0163, 0.0159, 0.0183, 0.0150, 0.0181, 0.0152, 0.0183, 0.0190, 0.0179,\n",
       "         0.0171, 0.0164, 0.0176, 0.0169, 0.0159, 0.0146, 0.0159, 0.0157, 0.0180,\n",
       "         0.0165, 0.0158, 0.0165, 0.0174, 0.0172, 0.0168, 0.0161, 0.0178, 0.0178,\n",
       "         0.0173, 0.0176, 0.0190, 0.0168, 0.0148, 0.0158, 0.0157, 0.0176, 0.0182,\n",
       "         0.0155, 0.0158, 0.0159, 0.0166, 0.0166, 0.0161, 0.0176, 0.0161, 0.0156,\n",
       "         0.0177, 0.0162, 0.0157, 0.0172, 0.0167, 0.0162],\n",
       "        [0.0165, 0.0172, 0.0152, 0.0157, 0.0168, 0.0160, 0.0180, 0.0157, 0.0166,\n",
       "         0.0163, 0.0159, 0.0183, 0.0150, 0.0181, 0.0152, 0.0183, 0.0190, 0.0179,\n",
       "         0.0171, 0.0164, 0.0176, 0.0169, 0.0159, 0.0146, 0.0159, 0.0157, 0.0180,\n",
       "         0.0165, 0.0158, 0.0165, 0.0174, 0.0172, 0.0168, 0.0161, 0.0178, 0.0178,\n",
       "         0.0173, 0.0176, 0.0190, 0.0168, 0.0148, 0.0158, 0.0157, 0.0176, 0.0182,\n",
       "         0.0155, 0.0158, 0.0159, 0.0166, 0.0166, 0.0161, 0.0176, 0.0161, 0.0156,\n",
       "         0.0177, 0.0162, 0.0157, 0.0172, 0.0167, 0.0162],\n",
       "        [0.0165, 0.0172, 0.0152, 0.0157, 0.0168, 0.0160, 0.0180, 0.0157, 0.0166,\n",
       "         0.0163, 0.0159, 0.0183, 0.0150, 0.0181, 0.0152, 0.0183, 0.0190, 0.0179,\n",
       "         0.0171, 0.0164, 0.0176, 0.0169, 0.0159, 0.0146, 0.0159, 0.0157, 0.0180,\n",
       "         0.0165, 0.0158, 0.0165, 0.0174, 0.0172, 0.0168, 0.0161, 0.0178, 0.0178,\n",
       "         0.0173, 0.0176, 0.0190, 0.0168, 0.0148, 0.0158, 0.0157, 0.0176, 0.0182,\n",
       "         0.0155, 0.0158, 0.0159, 0.0166, 0.0166, 0.0161, 0.0176, 0.0161, 0.0156,\n",
       "         0.0177, 0.0162, 0.0157, 0.0172, 0.0167, 0.0162]],\n",
       "       grad_fn=<SoftmaxBackward0>)"
      ]
     },
     "execution_count": 22,
     "metadata": {},
     "output_type": "execute_result"
    }
   ],
   "source": [
    "net(torch.from_numpy(test).float())"
   ]
  },
  {
   "cell_type": "code",
   "execution_count": 23,
   "id": "d6bd7073",
   "metadata": {},
   "outputs": [
    {
     "name": "stdout",
     "output_type": "stream",
     "text": [
      "/home/t/msm/ntxd/VAMP/writhe/asyn/lig\r\n"
     ]
    }
   ],
   "source": [
    "!pwd\n"
   ]
  },
  {
   "cell_type": "code",
   "execution_count": null,
   "id": "3647bb9b",
   "metadata": {},
   "outputs": [],
   "source": [
    "note_list = [cantus_firmus[i].transpose(interval) for interval in VALID_INTERVAL] #with list comp\n",
    "midi_list = np.array(list(map(lambda note:note.pitch.midi, note_list))) #with map and lambda func\n",
    "\n",
    "#...note_choice shit...\n",
    "\n",
    "midi_dist = midi_list-int(note_choice) # we can choose to take the absolute value here but I think not\n",
    "dist_idx = np.argsort(midi_dist)#smallest dist to farthest dist indices relative to note list\n",
    "dist_sort = midi_dist[dist_idx]\n",
    "note_sort = [note_list[idx] for idx in dist_idx]\n",
    "\n",
    "\n",
    "## what if we wanted to condition on a certain distance?\n",
    "constrained_idx = dist_idx[np.where(dist_sort%12 != 0 and ... and)] #we index dist_idx to maintain a map to the indices of\n",
    "\n",
    "## so the closest one can be defined by all of the following\n",
    "min_note = note_list[dist_idx[0]]; min_note = note_list[midi_dist.argmin()]; min_note = note_sort[0]\n",
    "\n",
    "## now we can also define whether our note choice was up or down\n",
    "direction = np.sign(dist_sort[constrained_idx[0]]) #we'll just take the sign of this boy\n"
   ]
  }
 ],
 "metadata": {
  "kernelspec": {
   "display_name": "Python 3 (ipykernel)",
   "language": "python",
   "name": "python3"
  },
  "language_info": {
   "codemirror_mode": {
    "name": "ipython",
    "version": 3
   },
   "file_extension": ".py",
   "mimetype": "text/x-python",
   "name": "python",
   "nbconvert_exporter": "python",
   "pygments_lexer": "ipython3",
   "version": "3.8.13"
  }
 },
 "nbformat": 4,
 "nbformat_minor": 5
}
